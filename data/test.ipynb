{
 "cells": [
  {
   "cell_type": "markdown",
   "metadata": {},
   "source": [
    ">>> Note\n",
    "If the data files is modified(deleted or added) make sure to run all this ipynb so that image_label.csv gets updated. Otherwise you will get error."
   ]
  },
  {
   "cell_type": "code",
   "execution_count": 1,
   "metadata": {},
   "outputs": [],
   "source": [
    "import os\n",
    "from typing import List\n",
    "\n",
    "import pandas as pd\n"
   ]
  },
  {
   "cell_type": "code",
   "execution_count": 2,
   "metadata": {},
   "outputs": [],
   "source": [
    "path_to_images: str = r\"images\""
   ]
  },
  {
   "cell_type": "code",
   "execution_count": 3,
   "metadata": {},
   "outputs": [],
   "source": [
    "image_labels: pd.DataFrame = pd.DataFrame(columns=[\"image\", \"class_label\"])\n",
    "class_labels: List[str] = os.listdir(path_to_images)\n",
    "for class_name in class_labels:\n",
    "    path_till_individual_class: str = os.path.join(path_to_images, class_name)\n",
    "    img_list_per_class: List[str] = os.listdir(path_till_individual_class)\n",
    "    for images in img_list_per_class:\n",
    "        image_labels.loc[len(image_labels)] = {\"image\": images, \"class_label\": class_name}"
   ]
  },
  {
   "cell_type": "code",
   "execution_count": 4,
   "metadata": {},
   "outputs": [
    {
     "data": {
      "text/html": [
       "<div>\n",
       "<style scoped>\n",
       "    .dataframe tbody tr th:only-of-type {\n",
       "        vertical-align: middle;\n",
       "    }\n",
       "\n",
       "    .dataframe tbody tr th {\n",
       "        vertical-align: top;\n",
       "    }\n",
       "\n",
       "    .dataframe thead th {\n",
       "        text-align: right;\n",
       "    }\n",
       "</style>\n",
       "<table border=\"1\" class=\"dataframe\">\n",
       "  <thead>\n",
       "    <tr style=\"text-align: right;\">\n",
       "      <th></th>\n",
       "      <th>image</th>\n",
       "      <th>class_label</th>\n",
       "    </tr>\n",
       "  </thead>\n",
       "  <tbody>\n",
       "    <tr>\n",
       "      <th>0</th>\n",
       "      <td>04eEIVA3wZzYqgWfCx4WNGJ-3.webp</td>\n",
       "      <td>c0</td>\n",
       "    </tr>\n",
       "    <tr>\n",
       "      <th>1</th>\n",
       "      <td>04TuEhpivKAaHT7IMx2bF16-4.webp</td>\n",
       "      <td>c0</td>\n",
       "    </tr>\n",
       "    <tr>\n",
       "      <th>2</th>\n",
       "      <td>04TuEhpivKAaHT7IMx2bF16-8.webp</td>\n",
       "      <td>c0</td>\n",
       "    </tr>\n",
       "    <tr>\n",
       "      <th>3</th>\n",
       "      <td>5b33383dd4b93c8e245fc2ced62e7e13.jpg</td>\n",
       "      <td>c0</td>\n",
       "    </tr>\n",
       "    <tr>\n",
       "      <th>4</th>\n",
       "      <td>61idoQI6QWL.jpg</td>\n",
       "      <td>c0</td>\n",
       "    </tr>\n",
       "  </tbody>\n",
       "</table>\n",
       "</div>"
      ],
      "text/plain": [
       "                                  image class_label\n",
       "0        04eEIVA3wZzYqgWfCx4WNGJ-3.webp          c0\n",
       "1        04TuEhpivKAaHT7IMx2bF16-4.webp          c0\n",
       "2        04TuEhpivKAaHT7IMx2bF16-8.webp          c0\n",
       "3  5b33383dd4b93c8e245fc2ced62e7e13.jpg          c0\n",
       "4                       61idoQI6QWL.jpg          c0"
      ]
     },
     "execution_count": 4,
     "metadata": {},
     "output_type": "execute_result"
    }
   ],
   "source": [
    "image_labels.head()"
   ]
  },
  {
   "cell_type": "code",
   "execution_count": 5,
   "metadata": {},
   "outputs": [],
   "source": [
    "image_labels.to_csv(r\"./image_labels.csv\")"
   ]
  }
 ],
 "metadata": {
  "kernelspec": {
   "display_name": "data_science_env",
   "language": "python",
   "name": "python3"
  },
  "language_info": {
   "codemirror_mode": {
    "name": "ipython",
    "version": 3
   },
   "file_extension": ".py",
   "mimetype": "text/x-python",
   "name": "python",
   "nbconvert_exporter": "python",
   "pygments_lexer": "ipython3",
   "version": "3.12.4"
  }
 },
 "nbformat": 4,
 "nbformat_minor": 2
}
